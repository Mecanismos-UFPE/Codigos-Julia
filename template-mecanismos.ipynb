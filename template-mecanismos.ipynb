{
 "cells": [
  {
   "cell_type": "markdown",
   "metadata": {},
   "source": [
    "## Template para o cálculo das velocidades e acelerações em cadeias impostas\n",
    "---\n",
    "### A função ''MecSolve'' Calcula as velocidades e acelerações\n",
    "- Sintaxe:\n",
    "    MecSolve($<$coords_generalizadas$>$, $<$equações_de_restrição$>$, $<$coeficientes_de_velocidade$>$)\n",
    "   * onde:\n",
    "       - $<$coords_generalizadas$>$ $\\quad\\,\\,\\,\\,\\, \\rightarrow$ Lista contendo as coordenadas generalizadas\n",
    "       - $<$equações_de_restrição$>$ $\\quad\\,\\, \\rightarrow$ Lista contendo as equações de restrição\n",
    "       - $<$coeficientes_de_velocidade$>$ $\\rightarrow$ Lista contendo os coeficientes de velocidade (variáveis correspondentes)\n",
    "       \n",
    "       \n",
    "- A célula a seguir só deve ser rodada uma única vez, no início e, **em hipótese alguma** deve ser modificada"
   ]
  },
  {
   "cell_type": "code",
   "execution_count": null,
   "metadata": {},
   "outputs": [],
   "source": [
    "using SymPy\n",
    "\n",
    "function MecSolve(c,e,k)\n",
    "    Cₛ = Array{Sym}([ i for i in c[2:end] ])\n",
    "    Eq = Array{Sym}(e)\n",
    "    Kₛ = Array{Sym}(k)\n",
    "\n",
    "    J = Eq.jacobian(Cₛ); F = Eq.jacobian([c[1]])\n",
    "    K = -(J^-1)*F; K = Array{Sym}([ simplify(i) for i in K ])\n",
    "    L = K.jacobian([c[1]]) + K.jacobian(Cₛ)*Kₛ\n",
    "    L = Array{Sym}([ simplify(i) for i in L ])\n",
    "    K, L\n",
    "end"
   ]
  },
  {
   "cell_type": "markdown",
   "metadata": {},
   "source": [
    "### Utilização do template:\n",
    "   * Primeiramente devem ser definidas as variáveis simbólicas a serem utilizadas, tais como constantes representativas dos comprimentos das barras, coordenadas generalizadas e os coeficientes de velocidade;\n",
    "   * Em seguida devem ser definidas as equações de restrição no formato:\n",
    "        $$f_1 = f_1(q,s_1,s_2,\\cdots,s_n)\\\\\n",
    "        f_2 = f_2(q,s_1,s_2,\\cdots,s_n)\\\\\n",
    "                  \\vdots \\\\\n",
    "        f_n = f_n(q,s_1,s_2,\\cdots,s_n)$$\n",
    "   * Por fim, devem ser montadas **três listas** contendo as \"coordenadas generlizadas\", as \"linhas das equações de restrição\" e os \"coeficientes da aceleração\";\n",
    "\n",
    "Estas três listas devem, então, entrar como argumento da função \"MecSolve\" (três argumentos apenas). \"MecSolve\" irá retornar duas matrizes, sendo a primeira a matriz dos ceoficientes de velocidade (**K**) e a segunda a matriz dos coeficientes da aceleração (**L**), em outras palavras, a função \"MecSolve\" deve ser chamada na seguinte forma:\n",
    "$$\\text{K, L = MecSolve(CoordsGen, EqRest, Ks)}$$\n",
    "#### Exemplo de Uso\n",
    "O mecanismo Biela Manivela, da figura abaixo, vai servir como exemplo na criação das variáveis e uso da função acima.\n",
    "\n",
    "![Mecanismo Biela Manivela](https://dc717.4shared.com/img/sPHOiqYSea/172bfe242c0/BielaManivela.png)\n",
    "\n",
    "Vejamos então como fica a codificação na célula abaixo."
   ]
  },
  {
   "cell_type": "code",
   "execution_count": null,
   "metadata": {},
   "outputs": [],
   "source": [
    "a,b = symbols(\"a b\")\n",
    "θ,θₜ,θₜₜ = symbols(\"theta \\\\dot{\\\\theta} \\\\ddot{\\\\theta}\")\n",
    "φ,x = symbols(\"varphi x\")\n",
    "kφ,kₓ = symbols(\"k_{\\\\varphi} k_x\")\n",
    "\n",
    "f₁ = a*cos(θ) + b*cos(φ) - x\n",
    "f₂ = a*sin(θ) - b*sin(φ)\n",
    "\n",
    "C = [θ,φ,x]\n",
    "Kₛ = [kφ,kₓ]\n",
    "Eq = [f₁,f₂]\n",
    "\n",
    "K,L = MecSolve(C,Eq,Kₛ)\n",
    "\n",
    "display(K*θₜ); display(K*θₜₜ + L*θₜ^2)"
   ]
  }
 ],
 "metadata": {
  "kernelspec": {
   "display_name": "Julia 1.4.2",
   "language": "julia",
   "name": "julia-1.4"
  },
  "language_info": {
   "file_extension": ".jl",
   "mimetype": "application/julia",
   "name": "julia",
   "version": "1.4.2"
  }
 },
 "nbformat": 4,
 "nbformat_minor": 4
}
