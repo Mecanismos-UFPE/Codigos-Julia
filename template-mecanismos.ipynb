{
 "cells": [
  {
   "cell_type": "markdown",
   "metadata": {},
   "source": [
    "## Template para Cadeias Impostas de 4 e 6 barras\n",
    "### A função ''MecSolve'' Calcula as velocidades e acelerações\n",
    "- Sintaxe:\n",
    "    MecSolve(q, $s_1$,$s_2$,...,...,$f_1$,$f_2$,...,...,$K_s$)\n",
    "    onde:\n",
    "       Três ou cinco primeiros argumentos  ==> Todas as coordenadas generalizadas\n",
    "       Dois ou quatro argumentos seguintes ==> Equações de restrição\n",
    "       Último argumento ==> Matriz contendo as variáveis que receberão os\n",
    "       coeficientes de velocidade\n",
    "- A célula a seguir só deve ser rodada uma única vez, no início e, **em hipótese alguma** deve ser modificada"
   ]
  },
  {
   "cell_type": "code",
   "execution_count": null,
   "metadata": {},
   "outputs": [],
   "source": [
    "using SymPy\n",
    "\n",
    "function MecSolve(arg...)\n",
    "    lst = [ i for i in arg ]\n",
    "    Eq   = length(arg) > 6 ? Array{Sym}(lst[6:9]) : Array{Sym}(lst[4:5])\n",
    "    CGen = length(arg) > 6 ? Array{Sym}(lst[2:5]) : Array{Sym}(lst[2:3])\n",
    "    Kₛ   = length(arg) > 6 ? lst[10] : lst[6]\n",
    "    J = Eq.jacobian(CGen); F = Eq.jacobian([arg[1]])\n",
    "    K = -(J^-1)*F; K = Array{Sym}([ simplify(i) for i in K ])\n",
    "    L = K.jacobian([arg[1]]) + K.jacobian(CGen)*Kₛ\n",
    "    L = Array{Sym}([ simplify(i) for i in L ])\n",
    "    K, L\n",
    "end"
   ]
  },
  {
   "cell_type": "markdown",
   "metadata": {},
   "source": [
    "### Dados a serem preenchidos"
   ]
  },
  {
   "cell_type": "code",
   "execution_count": null,
   "metadata": {},
   "outputs": [],
   "source": [
    "a,b = symbols(\"a b\")\n",
    "θ,θₜ,θₜₜ = symbols(\"theta \\\\dot{\\\\theta} \\\\ddot{\\\\theta}\")\n",
    "φ,x = symbols(\"varphi x\")\n",
    "kφ,kₓ = symbols(\"k_{\\\\varphi} k_x\")\n",
    "            \n",
    "f₁ = a*cos(θ) + b*cos(φ) - x\n",
    "f₂ = a*sin(θ) - b*sin(φ)\n",
    "\n",
    "K,L = Mec_Solve(θ,φ,x,f₁,f₂,[kφ,kₓ]);\n",
    "\n",
    "display(K*θₜ); display(K*θₜₜ + L*θₜ^2)"
   ]
  }
 ],
 "metadata": {
  "kernelspec": {
   "display_name": "Julia 1.4.2",
   "language": "julia",
   "name": "julia-1.4"
  },
  "language_info": {
   "file_extension": ".jl",
   "mimetype": "application/julia",
   "name": "julia",
   "version": "1.4.2"
  }
 },
 "nbformat": 4,
 "nbformat_minor": 4
}
