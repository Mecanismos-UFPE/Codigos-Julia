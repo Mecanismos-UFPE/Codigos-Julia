{
 "cells": [
  {
   "cell_type": "markdown",
   "metadata": {},
   "source": [
    "## Template para o cálculo das velocidades e acelerações em cadeias não impostas\n",
    "---\n",
    "### A função ''MecSolve'' Calcula as velocidades e acelerações\n",
    "- Sintaxe:\n",
    "    MecSolve($<$coords_generalizadas$>$, $<$equações_de_restrição$>$, $<$array_de_velocidade$>$)\n",
    "   * onde:\n",
    "       - $<$coords_generalizadas$>$ $\\quad\\,\\,\\,\\,\\, \\rightarrow$ Lista contendo as coordenadas generalizadas\n",
    "       - $<$equações_de_restrição$>$ $\\quad\\,\\, \\rightarrow$ Lista contendo as equações de restrição\n",
    "       - $<$coeficientes_de_velocidade$>$ $\\rightarrow$ Lista contendo as velocidades das coordenadas (variáveis correspondentes)\n",
    "       \n",
    "       \n",
    "- A célula a seguir só deve ser rodada uma única vez, no início e, **em hipótese alguma** deve ser modificada"
   ]
  },
  {
   "cell_type": "code",
   "execution_count": null,
   "metadata": {},
   "outputs": [],
   "source": [
    "using SymPy\n",
    "\n",
    "function MecSolve(c,eᵣ,cₜ)\n",
    "    f = size(c)[1]-size(eᵣ)[1]\n",
    "    Cₛ = Array{Sym}([ i for i in c[f+1:end] ])\n",
    "    Cₚ = Array{Sym}([ i for i in c[1:f] ])\n",
    "    Eq = Array{Sym}(eᵣ)\n",
    "    Cₛₜ = Array{Sym}([ i for i in cₜ[f+1:end] ])\n",
    "    Cₚₜ = Array{Sym}([ i for i in cₜ[1:f] ])\n",
    "    \n",
    "    J = Eq.jacobian(Cₛ); F = Eq.jacobian(Cₚ)\n",
    "    K = -(J^-1)*F; K = Array{Sym}([ simplify(i) for i in K ])\n",
    "    L = []\n",
    "    for i in 1:f\n",
    "        Lprov = K.col(i-1).jacobian(Cₚ)*Cₚₜ + K.col(i-1).jacobian(Cₛ)*Cₛₜ\n",
    "        push!(L,Lprov)\n",
    "    end\n",
    "    L = [simplify(L[i].col(0)[j]) for j in 1:2 , i in 1:f]\n",
    "    K, L\n",
    "end"
   ]
  },
  {
   "cell_type": "markdown",
   "metadata": {},
   "source": [
    "### Utilização do template:\n",
    "   * Primeiramente devem ser definidas as variáveis simbólicas a serem utilizadas, tais como constantes representativas dos comprimentos das barras, coordenadas generalizadas e as variávesl representativas das velociades;\n",
    "   * Em seguida devem ser definidas as equações de restrição no formato:\n",
    "        $$f_1 = f_1(q_1,q_2,\\dots,q_m,s_1,s_2,s_3,\\dots,s_n)\\\\\n",
    "        f_2 = f_2(q_1,q_2,\\dots,q_m,s_1,s_2,s_3,\\dots,s_n)\\\\\n",
    "                  \\vdots \\\\\n",
    "        f_n = f_n(q_1,q_2,\\dots,q_m,s_1,s_2,s_3,\\dots,s_n)$$\n",
    "   * Por fim, devem ser montadas **três listas** contendo as \"coordenadas generlizadas\", as \"linhas das equações de restrição\" e as variáveis que irão receber as velocidades principais e secundárias;\n",
    "\n",
    "Estas três listas devem, então, entrar como argumento da função \"MecSolve\" (três argumentos apenas). \"MecSolve\" irá retornar duas matrizes, sendo a primeira a matriz dos ceoficientes de velocidade (**K**) e a segunda a matriz dos coeficientes da aceleração (**L**), em outras palavras, a função \"MecSolve\" deve ser chamada na seguinte forma:\n",
    "$$\\text{K, L = MecSolve(CoordsGen, EqRest, Ct)}$$\n",
    "#### Exemplo de Uso\n",
    "A cadeia do tipo Quadrilátero Biela, da figura abaixo, vai servir como exemplo na criação das variáveis e uso da função acima.\n",
    "\n",
    "![Cadeia Quadrilátero Biela](https://dc547.4shared.com/img/kN7lEkwsea/172c432f388/quadrilatero.png)\n",
    "\n",
    "Vejamos então como fica a codificação na célula abaixo."
   ]
  },
  {
   "cell_type": "code",
   "execution_count": null,
   "metadata": {
    "scrolled": true
   },
   "outputs": [],
   "source": [
    "a,b,c = symbols(\"a b c\")\n",
    "θ₁,θₜ₁,θₜₜ₁ = symbols(\"theta_1 \\\\dot{\\\\theta_1} \\\\ddot{\\\\theta_1}\")\n",
    "θ₂,θₜ₂,θₜₜ₂ = symbols(\"theta_2 \\\\dot{\\\\theta_2} \\\\ddot{\\\\theta_2}\")\n",
    "φ,x,φₜ,ẋ = symbols(\"varphi x \\\\dot{\\\\varphi} \\\\dot{x}\")\n",
    "\n",
    "f₁ = a*cos(θ₁) + x*cos(φ) - b*cos(θ₂) - c\n",
    "f₂ = a*sin(θ₁) + x*sin(φ) - b*sin(θ₂)\n",
    "\n",
    "C = [θ₁,θ₂,φ,x]\n",
    "Cₜ = [θₜ₁,θₜ₂,φₜ,ẋ]\n",
    "Eq = [f₁,f₂]\n",
    "\n",
    "K,L = MecSolve(C,Eq,Cₜ)\n",
    "\n",
    "display(K*[θₜ₁,θₜ₂]);  display(K*[θₜₜ₁,θₜₜ₂] + L*[θₜ₁,θₜ₂])"
   ]
  }
 ],
 "metadata": {
  "kernelspec": {
   "display_name": "Julia 1.4.2",
   "language": "julia",
   "name": "julia-1.4"
  },
  "language_info": {
   "file_extension": ".jl",
   "mimetype": "application/julia",
   "name": "julia",
   "version": "1.4.2"
  }
 },
 "nbformat": 4,
 "nbformat_minor": 4
}
