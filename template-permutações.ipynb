{
 "cells": [
  {
   "cell_type": "markdown",
   "metadata": {},
   "source": [
    "## Permutações para Cadeias Impostas com \"n\" barras - Template\n",
    "---\n",
    "### A função ''Show_Combines'' Calcula as possibilidades das permutações para \"n\" barras\n",
    "- Sintaxe:\n",
    "    Show_Combines($<$numero_de_barras$>$)\n",
    "   * onde:\n",
    "       - $<$numero_de_barras$>$ $\\rightarrow$ Quantidade de barras no estudo.\n",
    "   * retorno:\n",
    "       - A função retorna uma tabela com todas as possibilidades de Permutação com \"n\" barras.\n",
    "\n",
    "       \n",
    "A célula a seguir só deve ser rodada uma única vez, no início e, **em hipótese alguma** deve ser modificada"
   ]
  },
  {
   "cell_type": "code",
   "execution_count": null,
   "metadata": {},
   "outputs": [],
   "source": [
    "function Compute_Var_Livres(n)\n",
    "    global k; global n₂; global n₃\n",
    "    n₂, n₃ = 4, 2*k - 4\n",
    "    for i in 1:k-3\n",
    "        n₂ += (i)*n[i]\n",
    "        n₃ -= (i+1)*n[i]\n",
    "    end\n",
    "    n₃ < 0 ? false : true\n",
    "end\n",
    "\n",
    "function Verify(N)\n",
    "    if N % 2 ≠ 0 || N < 4\n",
    "        println(\"n tem que ser par e maior ou igual a 4\")\n",
    "        return false\n",
    "    elseif N == 4\n",
    "        println(\"Permutação Única - \",[4, 0])\n",
    "        return false\n",
    "    elseif N == 6\n",
    "        println(\"Permutação Única - \",[4, 2])\n",
    "        return false\n",
    "    end\n",
    "    true\n",
    "end\n",
    "\n",
    "function Show_Combines(N)\n",
    "    Verify(N) ? p=1 : return     # Inicia Contador de permutações\n",
    "\n",
    "    global k; global n₂; global n₃\n",
    "    k = N >> 1                   # k = n/2 da teoria\n",
    "    orig = collect(0:k-2)        # Vetor [n4,...,nk]\n",
    "    aux = [1 for i in 1:k-2]     # Auxilia na troca dos elementos\n",
    "    aux[end] = 0                 # e encerra o while\n",
    "    v_livre = [0 for i in 1:k-3] # Variáveis livres em cada set.\n",
    "    \n",
    "    print(\"  PERMUTAÇÃO   |n₂-n₃|n4\")\n",
    "    println(join([\"-n$(i)\" for i in 5:k]),\"|\")\n",
    "    println(join([\"---\" for i in 1:k+4]))\n",
    "    \n",
    "    while aux[end] == 0\n",
    "        for i in [1:k]\n",
    "            for j in 1:k-3                    # preenche o vetor das\n",
    "                v_livre[k-2-j] = orig[aux[j]] # variáveis livres\n",
    "            end\n",
    "            if Compute_Var_Livres(v_livre)\n",
    "                println(\"Permutação \",p,\" - \",append!([n₂,n₃],v_livre))\n",
    "                p += 1\n",
    "            end\n",
    "            aux[1] += 1\n",
    "        end\n",
    "        for i in 1:k-3                    # efetua as permutações\n",
    "            if aux[i] == k                # no vetor aux.\n",
    "                aux[i] = 1\n",
    "                aux[i+1] += 1\n",
    "            end\n",
    "        end\n",
    "    end\n",
    "end"
   ]
  },
  {
   "cell_type": "markdown",
   "metadata": {},
   "source": [
    "### Utilização do template:\n",
    "   * A utilização é bastante simples,sendo necessária apenas uma chamada à função \"Show_Combines(n)\", com um valor numérico para o argumento \"n\".\n",
    "   * A célula a seguir mostra a utilização para o estudo de caso com \"12\" barras.\n",
    "\n",
    "Portanto a célula abaixo deve ser modificada sempre que se queira um novo estudo com a quantidade de barras desejadas no argumento da função."
   ]
  },
  {
   "cell_type": "code",
   "execution_count": null,
   "metadata": {},
   "outputs": [],
   "source": [
    "Show_Combines(12)"
   ]
  }
 ],
 "metadata": {
  "kernelspec": {
   "display_name": "Julia 1.4.2",
   "language": "julia",
   "name": "julia-1.4"
  },
  "language_info": {
   "file_extension": ".jl",
   "mimetype": "application/julia",
   "name": "julia",
   "version": "1.4.2"
  }
 },
 "nbformat": 4,
 "nbformat_minor": 4
}
