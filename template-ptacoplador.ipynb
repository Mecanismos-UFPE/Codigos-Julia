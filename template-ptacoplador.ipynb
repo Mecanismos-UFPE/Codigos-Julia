{
 "cells": [
  {
   "cell_type": "markdown",
   "metadata": {},
   "source": [
    "## Template para o cálculo dos deslocamentos, velocidades e acelerações para pontos do acoplador\n",
    "---\n",
    "### A função $P()$ retorna uma matriz coluna com os deslocamentos $x$<sub>p</sub>. e $y$<sub>p</sub>.\n",
    "### A função $\\dot P()$ retorna uma matriz coluna com as velocidades $\\dot x$<sub>p</sub>. e $\\dot y$<sub>p</sub>.\n",
    "### A função $\\ddot P()$ retorna uma matriz coluna com as acelerações $\\ddot x$<sub>p</sub>. e $\\ddot y$<sub>p</sub>.\n",
    "- Estas três funções não recebem argumentos e podem ser usadas no meio de expressões, porém requerem o uso do parêntesis, *vazios*.\n",
    "       \n",
    "A célula a seguir só deve ser rodada uma única vez, no início e, **em hipótese alguma** deve ser modificada"
   ]
  },
  {
   "cell_type": "code",
   "execution_count": null,
   "metadata": {},
   "outputs": [],
   "source": [
    "using SymPy\n",
    "\n",
    "u,v = symbols(\"u v\")\n",
    "sᵢ,ṡᵢ,sᵢₜₜ = symbols(\"s_i \\\\dot{s_i} \\\\ddot{s_i}\")\n",
    "xₒ,ẋₒ,ẍₒ = symbols(\"x_o \\\\dot{x_o} \\\\ddot{x_o}\")\n",
    "yₒ,ẏₒ,ÿₒ = symbols(\"y_o \\\\dot{y_o} \\\\ddot{y_o}\")\n",
    "\n",
    "M(sᵢ) = [[cos(sᵢ), -sin(sᵢ)] [sin(sᵢ), cos(sᵢ)]]\n",
    "Ω = Array{Sym}([[0, -1] [1,0]])\n",
    "\n",
    "function P()\n",
    "    [xₒ,yₒ] + M(sᵢ)*[u,v]\n",
    "end\n",
    "\n",
    "function Ṗ()\n",
    "    [ẋₒ,ẏₒ] + ṡᵢ*M(sᵢ)*Ω*[u,v]\n",
    "end\n",
    "\n",
    "function P̈()\n",
    "    Γ = Array{Sym}([[ṡᵢ^2, sᵢₜₜ] [-sᵢₜₜ, ṡᵢ^2]])\n",
    "    [ẍₒ,ÿₒ] - M(sᵢ)*Γ*[u,v]\n",
    "end"
   ]
  },
  {
   "cell_type": "markdown",
   "metadata": {},
   "source": [
    "### Utilização do template:\n",
    "   * Primeiramente devem ser definidas as variáveis simbólicas a serem utilizadas, tais como constantes representativas dos comprimentos das barras, coordenadas generalizadas e as variávesl representativas das velociades;\n",
    "   \n",
    "#### Exemplo de Uso\n",
    "O ponto do acoplador sobre a biela do mecanismo biela manivela, da figura abaixo, vai servir como exemplo na criação das variáveis e uso da função acima.\n",
    "\n",
    "![Ponto acoplador no Bieal Manivela](https://dc696.4shared.com/img/KidVzsorea/172c5017aa0/PtAcoplador.png)\n",
    "\n",
    "Vejamos então como fica a codificação na célula abaixo."
   ]
  },
  {
   "cell_type": "code",
   "execution_count": null,
   "metadata": {
    "scrolled": true
   },
   "outputs": [],
   "source": [
    "a,b = symbols(\"a b\")\n",
    "x,ẋ,ẍ = symbols(\"x \\\\dot{x} \\\\ddot{x}\")\n",
    "φ,φₜ,φₜₜ = symbols(\"varphi \\\\dot{\\\\varphi} \\\\ddot{\\\\varphi}\")\n",
    "\n",
    "u  = b/2\n",
    "v  = -a\n",
    "sᵢ = pi-φ\n",
    "ṡᵢ = -φₜ\n",
    "sᵢₜₜ = -φₜₜ\n",
    "xₒ = x\n",
    "ẋₒ = ẋ\n",
    "ẍₒ = ẍ\n",
    "yₒ = 0\n",
    "ẏₒ = 0\n",
    "ÿₒ = 0\n",
    "\n",
    "display(P());  display(Ṗ()); display(P̈())"
   ]
  }
 ],
 "metadata": {
  "kernelspec": {
   "display_name": "Julia 1.4.2",
   "language": "julia",
   "name": "julia-1.4"
  },
  "language_info": {
   "file_extension": ".jl",
   "mimetype": "application/julia",
   "name": "julia",
   "version": "1.4.2"
  }
 },
 "nbformat": 4,
 "nbformat_minor": 4
}
